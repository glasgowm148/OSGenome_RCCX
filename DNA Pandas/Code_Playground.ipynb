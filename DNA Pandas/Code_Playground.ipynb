{
 "cells": [
  {
   "cell_type": "code",
   "execution_count": 12,
   "metadata": {},
   "outputs": [
    {
     "name": "stdout",
     "output_type": "stream",
     "text": [
      "23andme_CA_V.txt\n",
      "          rsid chromosome  position genotype    ID\n",
      "0   rs12564807          1    734462       AA  CA_V\n",
      "1    rs3131972          1    752721       AG  CA_V\n",
      "2  rs148828841          1    760998       CC  CA_V\n",
      "3   rs12124819          1    776546       AA  CA_V\n",
      "4  rs115093905          1    787173       GG  CA_V\n",
      "23andme_KSU_V3.txt\n",
      "          rsid chromosome  position genotype    ID\n",
      "0   rs12564807          1    734462       AA  U_V3\n",
      "1    rs3131972          1    752721       AG  U_V3\n",
      "2  rs148828841          1    760998       CC  U_V3\n",
      "3   rs12124819          1    776546       AA  U_V3\n",
      "4  rs115093905          1    787173       GG  U_V3\n",
      "23andme_LS_V4.txt\n",
      "          rsid chromosome  position genotype    ID\n",
      "0   rs12564807          1    734462       AA  S_V4\n",
      "1    rs3131972          1    752721       AG  S_V4\n",
      "2  rs148828841          1    760998       CC  S_V4\n",
      "3   rs12124819          1    776546       AA  S_V4\n",
      "4  rs115093905          1    787173       GG  S_V4\n",
      "23andme_MG_v4.txt\n",
      "          rsid chromosome  position genotype    ID\n",
      "0   rs12564807          1    734462       AA  G_v4\n",
      "1    rs3131972          1    752721       AG  G_v4\n",
      "2  rs148828841          1    760998       CC  G_v4\n",
      "3   rs12124819          1    776546       AA  G_v4\n",
      "4  rs115093905          1    787173       GG  G_v4\n"
     ]
    }
   ],
   "source": [
    "# Imports\n",
    "import os\n",
    "import pandas as pd\n",
    "from os import listdir\n",
    "import numpy as np\n",
    "import seaborn as sns\n",
    "import matplotlib\n",
    "import matplotlib.pyplot as plt\n",
    "%matplotlib inline\n",
    "import pylev\n",
    "\n",
    "import re\n",
    "\n",
    "import seaborn as sns\n",
    "sns.set_style('darkgrid')\n",
    "sns.color_palette('Spectral')\n",
    "import matplotlib.pyplot as plt\n",
    "\n",
    "\n",
    "import requests\n",
    "\n",
    "from selenium import webdriver\n",
    "from selenium.webdriver.support.ui import WebDriverWait\n",
    "\n",
    "### MULTI-USER DATA\n",
    "user_frame = []\n",
    "\n",
    "for file in listdir('data/'):\n",
    "    \n",
    "    if (file[-3:]) == 'txt':\n",
    "        print(file)\n",
    "        \n",
    "        user_frame.append(pd.read_csv('data/' + file, sep='\\t', \n",
    "                   dtype={'rsid':'str', 'chromosome':'object', 'position':'int', 'genotype':'str'}, \n",
    "                   comment='#'))\n",
    "    \n",
    "\n",
    "    data_frame = pd.concat(user_frame, axis=0, ignore_index=True)\n",
    "    data_frame['ID'] = file[-8:-4]\n",
    "    print(data_frame.head())"
   ]
  },
  {
   "cell_type": "code",
   "execution_count": null,
   "metadata": {},
   "outputs": [],
   "source": []
  }
 ],
 "metadata": {
  "kernelspec": {
   "display_name": "Python 3",
   "language": "python",
   "name": "python3"
  },
  "language_info": {
   "codemirror_mode": {
    "name": "ipython",
    "version": 3
   },
   "file_extension": ".py",
   "mimetype": "text/x-python",
   "name": "python",
   "nbconvert_exporter": "python",
   "pygments_lexer": "ipython3",
   "version": "3.6.8"
  }
 },
 "nbformat": 4,
 "nbformat_minor": 2
}
