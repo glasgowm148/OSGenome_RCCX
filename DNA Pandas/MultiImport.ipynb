{
 "cells": [
  {
   "cell_type": "code",
   "execution_count": 1,
   "metadata": {},
   "outputs": [],
   "source": [
    "# Imports\n",
    "import os\n",
    "import pandas as pd\n",
    "from os import listdir\n",
    "import numpy as np\n",
    "import seaborn as sns\n",
    "import matplotlib\n",
    "import matplotlib.pyplot as plt\n",
    "%matplotlib inline\n",
    "import pylev\n",
    "\n",
    "import re\n",
    "\n",
    "import seaborn as sns\n",
    "sns.set_style('darkgrid')\n",
    "sns.color_palette('Spectral')\n",
    "import matplotlib.pyplot as plt\n",
    "\n",
    "\n",
    "import requests\n",
    "\n",
    "from selenium import webdriver\n",
    "from selenium.webdriver.support.ui import WebDriverWait"
   ]
  },
  {
   "cell_type": "code",
   "execution_count": 2,
   "metadata": {},
   "outputs": [],
   "source": [
    "import glob\n",
    "# Step 1: get a list of all csv files in target directory\n",
    "my_dir = \"/home/mark/coursework/DNA/data\"\n",
    "filelist = []\n",
    "filesList = []\n",
    "user_frame = []\n",
    "os.chdir( my_dir )\n",
    "\n",
    "# Step 2: Build up list of files:\n",
    "for files in glob.glob(\"*.txt\"):\n",
    "    fileName, fileExtension = os.path.splitext(files)\n",
    "    filelist.append(fileName) #filename without extension\n",
    "    filesList.append(files) #filename with extension\n",
    "    \n",
    "    \n",
    "\n",
    "# Step 3: Build up DataFrame:\n",
    "df = pd.DataFrame()\n",
    "\n",
    "\n",
    "dfs = [pd.read_table(ijk, sep='\\t', \n",
    "                   dtype={'rsid':'str', 'chromosome':'object', 'position':'int', 'genotype':'str'}, \n",
    "                   comment='#').assign(ID=ijk) \\\n",
    "       for ijk in filesList]\n",
    "\n",
    "df = pd.concat(dfs, ignore_index=True, axis=0)"
   ]
  },
  {
   "cell_type": "code",
   "execution_count": 3,
   "metadata": {},
   "outputs": [
    {
     "data": {
      "text/html": [
       "<div>\n",
       "<style scoped>\n",
       "    .dataframe tbody tr th:only-of-type {\n",
       "        vertical-align: middle;\n",
       "    }\n",
       "\n",
       "    .dataframe tbody tr th {\n",
       "        vertical-align: top;\n",
       "    }\n",
       "\n",
       "    .dataframe thead th {\n",
       "        text-align: right;\n",
       "    }\n",
       "</style>\n",
       "<table border=\"1\" class=\"dataframe\">\n",
       "  <thead>\n",
       "    <tr style=\"text-align: right;\">\n",
       "      <th></th>\n",
       "      <th>rsid</th>\n",
       "      <th>chromosome</th>\n",
       "      <th>position</th>\n",
       "      <th>genotype</th>\n",
       "      <th>ID</th>\n",
       "    </tr>\n",
       "  </thead>\n",
       "  <tbody>\n",
       "    <tr>\n",
       "      <th>0</th>\n",
       "      <td>rs12564807</td>\n",
       "      <td>1</td>\n",
       "      <td>734462</td>\n",
       "      <td>AA</td>\n",
       "      <td>23andme_CA_V.txt</td>\n",
       "    </tr>\n",
       "    <tr>\n",
       "      <th>1</th>\n",
       "      <td>rs3131972</td>\n",
       "      <td>1</td>\n",
       "      <td>752721</td>\n",
       "      <td>AG</td>\n",
       "      <td>23andme_CA_V.txt</td>\n",
       "    </tr>\n",
       "    <tr>\n",
       "      <th>2</th>\n",
       "      <td>rs148828841</td>\n",
       "      <td>1</td>\n",
       "      <td>760998</td>\n",
       "      <td>CC</td>\n",
       "      <td>23andme_CA_V.txt</td>\n",
       "    </tr>\n",
       "    <tr>\n",
       "      <th>3</th>\n",
       "      <td>rs12124819</td>\n",
       "      <td>1</td>\n",
       "      <td>776546</td>\n",
       "      <td>AA</td>\n",
       "      <td>23andme_CA_V.txt</td>\n",
       "    </tr>\n",
       "    <tr>\n",
       "      <th>4</th>\n",
       "      <td>rs115093905</td>\n",
       "      <td>1</td>\n",
       "      <td>787173</td>\n",
       "      <td>GG</td>\n",
       "      <td>23andme_CA_V.txt</td>\n",
       "    </tr>\n",
       "  </tbody>\n",
       "</table>\n",
       "</div>"
      ],
      "text/plain": [
       "          rsid chromosome  position genotype                ID\n",
       "0   rs12564807          1    734462       AA  23andme_CA_V.txt\n",
       "1    rs3131972          1    752721       AG  23andme_CA_V.txt\n",
       "2  rs148828841          1    760998       CC  23andme_CA_V.txt\n",
       "3   rs12124819          1    776546       AA  23andme_CA_V.txt\n",
       "4  rs115093905          1    787173       GG  23andme_CA_V.txt"
      ]
     },
     "execution_count": 3,
     "metadata": {},
     "output_type": "execute_result"
    }
   ],
   "source": [
    "df.head()\n"
   ]
  },
  {
   "cell_type": "code",
   "execution_count": 4,
   "metadata": {},
   "outputs": [
    {
     "data": {
      "text/plain": [
       "Index(['rsid', 'chromosome', 'position', 'genotype', 'ID'], dtype='object')"
      ]
     },
     "execution_count": 4,
     "metadata": {},
     "output_type": "execute_result"
    }
   ],
   "source": [
    "df.columns"
   ]
  },
  {
   "cell_type": "code",
   "execution_count": 5,
   "metadata": {},
   "outputs": [
    {
     "data": {
      "text/plain": [
       "0           23andme_CA_V.txt\n",
       "1           23andme_CA_V.txt\n",
       "2           23andme_CA_V.txt\n",
       "3           23andme_CA_V.txt\n",
       "4           23andme_CA_V.txt\n",
       "                 ...        \n",
       "2230922    23andme_MG_v4.txt\n",
       "2230923    23andme_MG_v4.txt\n",
       "2230924    23andme_MG_v4.txt\n",
       "2230925    23andme_MG_v4.txt\n",
       "2230926    23andme_MG_v4.txt\n",
       "Name: ID, Length: 2230927, dtype: object"
      ]
     },
     "execution_count": 5,
     "metadata": {},
     "output_type": "execute_result"
    }
   ],
   "source": [
    "df['ID']"
   ]
  },
  {
   "cell_type": "code",
   "execution_count": 8,
   "metadata": {},
   "outputs": [
    {
     "data": {
      "text/plain": [
       "rsid          162\n",
       "chromosome      1\n",
       "position      162\n",
       "genotype       10\n",
       "ID              3\n",
       "dtype: int64"
      ]
     },
     "execution_count": 8,
     "metadata": {},
     "output_type": "execute_result"
    }
   ],
   "source": [
    "summary = df.groupby(['genotype', 'ID']).size().unstack().fillna(0)\n",
    "df6 = df[df.chromosome == \"6\"]\n",
    "summary = df6[(df6['position'] >= 31971175) & (df6['position'] <= 32109338)]\n",
    "\n",
    "summary\n",
    "summary.nunique()\n",
    "\n",
    "#summary_table.loc[['genotype', 'ID']]"
   ]
  },
  {
   "cell_type": "code",
   "execution_count": 68,
   "metadata": {},
   "outputs": [
    {
     "ename": "ValueError",
     "evalue": "zero-size array to reduction operation minimum which has no identity",
     "output_type": "error",
     "traceback": [
      "\u001b[0;31m---------------------------------------------------------------------------\u001b[0m",
      "\u001b[0;31mValueError\u001b[0m                                Traceback (most recent call last)",
      "\u001b[0;32m<ipython-input-68-47a61d5d056e>\u001b[0m in \u001b[0;36m<module>\u001b[0;34m\u001b[0m\n\u001b[1;32m     13\u001b[0m     \u001b[0mcmap\u001b[0m\u001b[0;34m=\u001b[0m\u001b[0;34m'BuPu'\u001b[0m\u001b[0;34m,\u001b[0m\u001b[0;34m\u001b[0m\u001b[0;34m\u001b[0m\u001b[0m\n\u001b[1;32m     14\u001b[0m     \u001b[0msquare\u001b[0m\u001b[0;34m=\u001b[0m\u001b[0;32mTrue\u001b[0m\u001b[0;34m,\u001b[0m\u001b[0;34m\u001b[0m\u001b[0;34m\u001b[0m\u001b[0m\n\u001b[0;32m---> 15\u001b[0;31m     \u001b[0mcbar_kws\u001b[0m \u001b[0;34m=\u001b[0m \u001b[0;34m{\u001b[0m\u001b[0;34m'fraction'\u001b[0m \u001b[0;34m:\u001b[0m \u001b[0;36m0.02\u001b[0m\u001b[0;34m}\u001b[0m\u001b[0;34m\u001b[0m\u001b[0;34m\u001b[0m\u001b[0m\n\u001b[0m\u001b[1;32m     16\u001b[0m )\n\u001b[1;32m     17\u001b[0m \u001b[0msummary_table\u001b[0m\u001b[0;34m\u001b[0m\u001b[0;34m\u001b[0m\u001b[0m\n",
      "\u001b[0;32m/usr/local/lib/python3.6/site-packages/seaborn/matrix.py\u001b[0m in \u001b[0;36mheatmap\u001b[0;34m(data, vmin, vmax, cmap, center, robust, annot, fmt, annot_kws, linewidths, linecolor, cbar, cbar_kws, cbar_ax, square, xticklabels, yticklabels, mask, ax, **kwargs)\u001b[0m\n\u001b[1;32m    515\u001b[0m     plotter = _HeatMapper(data, vmin, vmax, cmap, center, robust, annot, fmt,\n\u001b[1;32m    516\u001b[0m                           \u001b[0mannot_kws\u001b[0m\u001b[0;34m,\u001b[0m \u001b[0mcbar\u001b[0m\u001b[0;34m,\u001b[0m \u001b[0mcbar_kws\u001b[0m\u001b[0;34m,\u001b[0m \u001b[0mxticklabels\u001b[0m\u001b[0;34m,\u001b[0m\u001b[0;34m\u001b[0m\u001b[0;34m\u001b[0m\u001b[0m\n\u001b[0;32m--> 517\u001b[0;31m                           yticklabels, mask)\n\u001b[0m\u001b[1;32m    518\u001b[0m \u001b[0;34m\u001b[0m\u001b[0m\n\u001b[1;32m    519\u001b[0m     \u001b[0;31m# Add the pcolormesh kwargs here\u001b[0m\u001b[0;34m\u001b[0m\u001b[0;34m\u001b[0m\u001b[0;34m\u001b[0m\u001b[0m\n",
      "\u001b[0;32m/usr/local/lib/python3.6/site-packages/seaborn/matrix.py\u001b[0m in \u001b[0;36m__init__\u001b[0;34m(self, data, vmin, vmax, cmap, center, robust, annot, fmt, annot_kws, cbar, cbar_kws, xticklabels, yticklabels, mask)\u001b[0m\n\u001b[1;32m    165\u001b[0m         \u001b[0;31m# Determine good default values for the colormapping\u001b[0m\u001b[0;34m\u001b[0m\u001b[0;34m\u001b[0m\u001b[0;34m\u001b[0m\u001b[0m\n\u001b[1;32m    166\u001b[0m         self._determine_cmap_params(plot_data, vmin, vmax,\n\u001b[0;32m--> 167\u001b[0;31m                                     cmap, center, robust)\n\u001b[0m\u001b[1;32m    168\u001b[0m \u001b[0;34m\u001b[0m\u001b[0m\n\u001b[1;32m    169\u001b[0m         \u001b[0;31m# Sort out the annotations\u001b[0m\u001b[0;34m\u001b[0m\u001b[0;34m\u001b[0m\u001b[0;34m\u001b[0m\u001b[0m\n",
      "\u001b[0;32m/usr/local/lib/python3.6/site-packages/seaborn/matrix.py\u001b[0m in \u001b[0;36m_determine_cmap_params\u001b[0;34m(self, plot_data, vmin, vmax, cmap, center, robust)\u001b[0m\n\u001b[1;32m    204\u001b[0m         \u001b[0mcalc_data\u001b[0m \u001b[0;34m=\u001b[0m \u001b[0mplot_data\u001b[0m\u001b[0;34m.\u001b[0m\u001b[0mdata\u001b[0m\u001b[0;34m[\u001b[0m\u001b[0;34m~\u001b[0m\u001b[0mnp\u001b[0m\u001b[0;34m.\u001b[0m\u001b[0misnan\u001b[0m\u001b[0;34m(\u001b[0m\u001b[0mplot_data\u001b[0m\u001b[0;34m.\u001b[0m\u001b[0mdata\u001b[0m\u001b[0;34m)\u001b[0m\u001b[0;34m]\u001b[0m\u001b[0;34m\u001b[0m\u001b[0;34m\u001b[0m\u001b[0m\n\u001b[1;32m    205\u001b[0m         \u001b[0;32mif\u001b[0m \u001b[0mvmin\u001b[0m \u001b[0;32mis\u001b[0m \u001b[0;32mNone\u001b[0m\u001b[0;34m:\u001b[0m\u001b[0;34m\u001b[0m\u001b[0;34m\u001b[0m\u001b[0m\n\u001b[0;32m--> 206\u001b[0;31m             \u001b[0mvmin\u001b[0m \u001b[0;34m=\u001b[0m \u001b[0mnp\u001b[0m\u001b[0;34m.\u001b[0m\u001b[0mpercentile\u001b[0m\u001b[0;34m(\u001b[0m\u001b[0mcalc_data\u001b[0m\u001b[0;34m,\u001b[0m \u001b[0;36m2\u001b[0m\u001b[0;34m)\u001b[0m \u001b[0;32mif\u001b[0m \u001b[0mrobust\u001b[0m \u001b[0;32melse\u001b[0m \u001b[0mcalc_data\u001b[0m\u001b[0;34m.\u001b[0m\u001b[0mmin\u001b[0m\u001b[0;34m(\u001b[0m\u001b[0;34m)\u001b[0m\u001b[0;34m\u001b[0m\u001b[0;34m\u001b[0m\u001b[0m\n\u001b[0m\u001b[1;32m    207\u001b[0m         \u001b[0;32mif\u001b[0m \u001b[0mvmax\u001b[0m \u001b[0;32mis\u001b[0m \u001b[0;32mNone\u001b[0m\u001b[0;34m:\u001b[0m\u001b[0;34m\u001b[0m\u001b[0;34m\u001b[0m\u001b[0m\n\u001b[1;32m    208\u001b[0m             \u001b[0mvmax\u001b[0m \u001b[0;34m=\u001b[0m \u001b[0mnp\u001b[0m\u001b[0;34m.\u001b[0m\u001b[0mpercentile\u001b[0m\u001b[0;34m(\u001b[0m\u001b[0mcalc_data\u001b[0m\u001b[0;34m,\u001b[0m \u001b[0;36m98\u001b[0m\u001b[0;34m)\u001b[0m \u001b[0;32mif\u001b[0m \u001b[0mrobust\u001b[0m \u001b[0;32melse\u001b[0m \u001b[0mcalc_data\u001b[0m\u001b[0;34m.\u001b[0m\u001b[0mmax\u001b[0m\u001b[0;34m(\u001b[0m\u001b[0;34m)\u001b[0m\u001b[0;34m\u001b[0m\u001b[0;34m\u001b[0m\u001b[0m\n",
      "\u001b[0;32m/usr/local/lib64/python3.6/site-packages/numpy/core/_methods.py\u001b[0m in \u001b[0;36m_amin\u001b[0;34m(a, axis, out, keepdims, initial, where)\u001b[0m\n\u001b[1;32m     32\u001b[0m def _amin(a, axis=None, out=None, keepdims=False,\n\u001b[1;32m     33\u001b[0m           initial=_NoValue, where=True):\n\u001b[0;32m---> 34\u001b[0;31m     \u001b[0;32mreturn\u001b[0m \u001b[0mumr_minimum\u001b[0m\u001b[0;34m(\u001b[0m\u001b[0ma\u001b[0m\u001b[0;34m,\u001b[0m \u001b[0maxis\u001b[0m\u001b[0;34m,\u001b[0m \u001b[0;32mNone\u001b[0m\u001b[0;34m,\u001b[0m \u001b[0mout\u001b[0m\u001b[0;34m,\u001b[0m \u001b[0mkeepdims\u001b[0m\u001b[0;34m,\u001b[0m \u001b[0minitial\u001b[0m\u001b[0;34m,\u001b[0m \u001b[0mwhere\u001b[0m\u001b[0;34m)\u001b[0m\u001b[0;34m\u001b[0m\u001b[0;34m\u001b[0m\u001b[0m\n\u001b[0m\u001b[1;32m     35\u001b[0m \u001b[0;34m\u001b[0m\u001b[0m\n\u001b[1;32m     36\u001b[0m def _sum(a, axis=None, dtype=None, out=None, keepdims=False,\n",
      "\u001b[0;31mValueError\u001b[0m: zero-size array to reduction operation minimum which has no identity"
     ]
    },
    {
     "data": {
      "text/plain": [
       "<Figure size 2160x2160 with 0 Axes>"
      ]
     },
     "metadata": {},
     "output_type": "display_data"
    }
   ],
   "source": [
    "summary_table = (\n",
    "    df\n",
    "    .groupby('rsid')\n",
    "    .filter(lambda x : len(x) > 400)\n",
    "    .groupby(['rsid', 'ID', 'genotype'])\n",
    "    .size()\n",
    "    .unstack()\n",
    "    .fillna(0)\n",
    "    )\n",
    "plt.figure(figsize=(30,30))\n",
    "sns.heatmap(\n",
    "    summary_table.apply(lambda x : x / x.sum(), axis=0),\n",
    "    cmap='BuPu',\n",
    "    square=True,\n",
    "    cbar_kws = {'fraction' : 0.02}\n",
    ")\n",
    "summary_table\n",
    "#summary_table.loc[['genotype', 'ID']]"
   ]
  },
  {
   "cell_type": "code",
   "execution_count": 67,
   "metadata": {},
   "outputs": [
    {
     "ename": "NameError",
     "evalue": "name 'squareform' is not defined",
     "output_type": "error",
     "traceback": [
      "\u001b[0;31m---------------------------------------------------------------------------\u001b[0m",
      "\u001b[0;31mNameError\u001b[0m                                 Traceback (most recent call last)",
      "\u001b[0;32m<ipython-input-67-129a57b4c255>\u001b[0m in \u001b[0;36m<module>\u001b[0;34m\u001b[0m\n\u001b[1;32m      1\u001b[0m \u001b[0;31m# Pairwise comparison\u001b[0m\u001b[0;34m\u001b[0m\u001b[0;34m\u001b[0m\u001b[0;34m\u001b[0m\u001b[0m\n\u001b[1;32m      2\u001b[0m pairwise = pd.DataFrame(\n\u001b[0;32m----> 3\u001b[0;31m     \u001b[0msquareform\u001b[0m\u001b[0;34m(\u001b[0m\u001b[0mpdist\u001b[0m\u001b[0;34m(\u001b[0m\u001b[0msummary\u001b[0m\u001b[0;34m)\u001b[0m\u001b[0;34m)\u001b[0m\u001b[0;34m,\u001b[0m\u001b[0;34m\u001b[0m\u001b[0;34m\u001b[0m\u001b[0m\n\u001b[0m\u001b[1;32m      4\u001b[0m     \u001b[0mcolumns\u001b[0m \u001b[0;34m=\u001b[0m \u001b[0msummary\u001b[0m\u001b[0;34m.\u001b[0m\u001b[0mindex\u001b[0m\u001b[0;34m,\u001b[0m\u001b[0;34m\u001b[0m\u001b[0;34m\u001b[0m\u001b[0m\n\u001b[1;32m      5\u001b[0m     \u001b[0mindex\u001b[0m \u001b[0;34m=\u001b[0m \u001b[0msummary\u001b[0m\u001b[0;34m.\u001b[0m\u001b[0mindex\u001b[0m\u001b[0;34m\u001b[0m\u001b[0;34m\u001b[0m\u001b[0m\n",
      "\u001b[0;31mNameError\u001b[0m: name 'squareform' is not defined"
     ]
    }
   ],
   "source": [
    "# Pairwise comparison \n",
    "pairwise = pd.DataFrame(\n",
    "    squareform(pdist(summary)),\n",
    "    columns = summary.index,\n",
    "    index = summary.index\n",
    ")\n",
    "pairwise\n",
    "\n",
    "# make pairwise distance matrix\n",
    "pairwise_top = pd.DataFrame(\n",
    "    squareform(pdist(summary_table, metric='cosine')),\n",
    "    columns = summary_table.index,\n",
    "    index = summary_table.index\n",
    ")\n",
    "\n",
    "# plot it with seaborn\n",
    "plt.figure(figsize=(20,20))\n",
    "sns.heatmap(\n",
    "    pairwise_top,\n",
    "    cmap='OrRd',\n",
    "    linewidth=1\n",
    ")"
   ]
  },
  {
   "cell_type": "code",
   "execution_count": null,
   "metadata": {},
   "outputs": [],
   "source": [
    "# Correlation Matrix \n",
    "f = plt.figure(figsize=(19, 15))\n",
    "plt.matshow(df.corr(), fignum=f.number)\n",
    "plt.xticks(range(df.shape[1]), df.columns, fontsize=10, rotation=45)\n",
    "plt.yticks(range(df.shape[1]), df.columns, fontsize=10)\n",
    "cb = plt.colorbar()\n",
    "cb.ax.tick_params(labelsize=12)\n",
    "plt.title('Correlation Matrix', fontsize=14); "
   ]
  },
  {
   "cell_type": "code",
   "execution_count": 14,
   "metadata": {},
   "outputs": [
    {
     "data": {
      "text/html": [
       "<div>\n",
       "<style scoped>\n",
       "    .dataframe tbody tr th:only-of-type {\n",
       "        vertical-align: middle;\n",
       "    }\n",
       "\n",
       "    .dataframe tbody tr th {\n",
       "        vertical-align: top;\n",
       "    }\n",
       "\n",
       "    .dataframe thead th {\n",
       "        text-align: right;\n",
       "    }\n",
       "</style>\n",
       "<table border=\"1\" class=\"dataframe\">\n",
       "  <thead>\n",
       "    <tr style=\"text-align: right;\">\n",
       "      <th></th>\n",
       "      <th>rsid</th>\n",
       "      <th>chromosome</th>\n",
       "      <th>position</th>\n",
       "      <th>genotype</th>\n",
       "      <th>ID</th>\n",
       "    </tr>\n",
       "  </thead>\n",
       "  <tbody>\n",
       "    <tr>\n",
       "      <th>410184</th>\n",
       "      <td>i5900278</td>\n",
       "      <td>6</td>\n",
       "      <td>31973653</td>\n",
       "      <td>AA</td>\n",
       "      <td>23andme_KSU_V3.txt</td>\n",
       "    </tr>\n",
       "    <tr>\n",
       "      <th>410185</th>\n",
       "      <td>rs9501393</td>\n",
       "      <td>6</td>\n",
       "      <td>31974849</td>\n",
       "      <td>CC</td>\n",
       "      <td>23andme_KSU_V3.txt</td>\n",
       "    </tr>\n",
       "    <tr>\n",
       "      <th>410186</th>\n",
       "      <td>rs62402680</td>\n",
       "      <td>6</td>\n",
       "      <td>31975113</td>\n",
       "      <td>GG</td>\n",
       "      <td>23andme_KSU_V3.txt</td>\n",
       "    </tr>\n",
       "    <tr>\n",
       "      <th>410187</th>\n",
       "      <td>rs3130677</td>\n",
       "      <td>6</td>\n",
       "      <td>32005904</td>\n",
       "      <td>TT</td>\n",
       "      <td>23andme_KSU_V3.txt</td>\n",
       "    </tr>\n",
       "    <tr>\n",
       "      <th>410188</th>\n",
       "      <td>rs72552743</td>\n",
       "      <td>6</td>\n",
       "      <td>32006258</td>\n",
       "      <td>GG</td>\n",
       "      <td>23andme_KSU_V3.txt</td>\n",
       "    </tr>\n",
       "    <tr>\n",
       "      <th>...</th>\n",
       "      <td>...</td>\n",
       "      <td>...</td>\n",
       "      <td>...</td>\n",
       "      <td>...</td>\n",
       "      <td>...</td>\n",
       "    </tr>\n",
       "    <tr>\n",
       "      <th>1839525</th>\n",
       "      <td>rs35580488</td>\n",
       "      <td>6</td>\n",
       "      <td>32097421</td>\n",
       "      <td>GG</td>\n",
       "      <td>23andme_MG_v4.txt</td>\n",
       "    </tr>\n",
       "    <tr>\n",
       "      <th>1839526</th>\n",
       "      <td>rs169494</td>\n",
       "      <td>6</td>\n",
       "      <td>32097876</td>\n",
       "      <td>GG</td>\n",
       "      <td>23andme_MG_v4.txt</td>\n",
       "    </tr>\n",
       "    <tr>\n",
       "      <th>1839527</th>\n",
       "      <td>rs11962353</td>\n",
       "      <td>6</td>\n",
       "      <td>32100077</td>\n",
       "      <td>GG</td>\n",
       "      <td>23andme_MG_v4.txt</td>\n",
       "    </tr>\n",
       "    <tr>\n",
       "      <th>1839528</th>\n",
       "      <td>rs9267803</td>\n",
       "      <td>6</td>\n",
       "      <td>32101762</td>\n",
       "      <td>CC</td>\n",
       "      <td>23andme_MG_v4.txt</td>\n",
       "    </tr>\n",
       "    <tr>\n",
       "      <th>1839529</th>\n",
       "      <td>rs4713505</td>\n",
       "      <td>6</td>\n",
       "      <td>32105001</td>\n",
       "      <td>GG</td>\n",
       "      <td>23andme_MG_v4.txt</td>\n",
       "    </tr>\n",
       "  </tbody>\n",
       "</table>\n",
       "<p>306 rows × 5 columns</p>\n",
       "</div>"
      ],
      "text/plain": [
       "               rsid chromosome  position genotype                  ID\n",
       "410184     i5900278          6  31973653       AA  23andme_KSU_V3.txt\n",
       "410185    rs9501393          6  31974849       CC  23andme_KSU_V3.txt\n",
       "410186   rs62402680          6  31975113       GG  23andme_KSU_V3.txt\n",
       "410187    rs3130677          6  32005904       TT  23andme_KSU_V3.txt\n",
       "410188   rs72552743          6  32006258       GG  23andme_KSU_V3.txt\n",
       "...             ...        ...       ...      ...                 ...\n",
       "1839525  rs35580488          6  32097421       GG   23andme_MG_v4.txt\n",
       "1839526    rs169494          6  32097876       GG   23andme_MG_v4.txt\n",
       "1839527  rs11962353          6  32100077       GG   23andme_MG_v4.txt\n",
       "1839528   rs9267803          6  32101762       CC   23andme_MG_v4.txt\n",
       "1839529   rs4713505          6  32105001       GG   23andme_MG_v4.txt\n",
       "\n",
       "[306 rows x 5 columns]"
      ]
     },
     "execution_count": 14,
     "metadata": {},
     "output_type": "execute_result"
    }
   ],
   "source": [
    "summary"
   ]
  },
  {
   "cell_type": "code",
   "execution_count": 66,
   "metadata": {},
   "outputs": [
    {
     "ename": "TypeError",
     "evalue": "reset_index() got an unexpected keyword argument 'name'",
     "output_type": "error",
     "traceback": [
      "\u001b[0;31m---------------------------------------------------------------------------\u001b[0m",
      "\u001b[0;31mTypeError\u001b[0m                                 Traceback (most recent call last)",
      "\u001b[0;32m<ipython-input-66-ccba467a1c72>\u001b[0m in \u001b[0;36m<module>\u001b[0;34m\u001b[0m\n\u001b[1;32m     16\u001b[0m    \u001b[0;31m# print(g)\u001b[0m\u001b[0;34m\u001b[0m\u001b[0;34m\u001b[0m\u001b[0;34m\u001b[0m\u001b[0m\n\u001b[1;32m     17\u001b[0m \u001b[0;34m\u001b[0m\u001b[0m\n\u001b[0;32m---> 18\u001b[0;31m \u001b[0mmetric_frame\u001b[0m \u001b[0;34m=\u001b[0m \u001b[0madd_column\u001b[0m\u001b[0;34m(\u001b[0m\u001b[0msummary\u001b[0m\u001b[0;34m,\u001b[0m \u001b[0mcombined\u001b[0m\u001b[0;34m,\u001b[0m \u001b[0;34m'combined'\u001b[0m\u001b[0;34m)\u001b[0m\u001b[0;34m\u001b[0m\u001b[0;34m\u001b[0m\u001b[0m\n\u001b[0m",
      "\u001b[0;32m<ipython-input-66-ccba467a1c72>\u001b[0m in \u001b[0;36madd_column\u001b[0;34m(frame, fn, name)\u001b[0m\n\u001b[1;32m      8\u001b[0m \u001b[0mcombined\u001b[0m\u001b[0;34m\u001b[0m\u001b[0;34m\u001b[0m\u001b[0m\n\u001b[1;32m      9\u001b[0m \u001b[0;32mdef\u001b[0m \u001b[0madd_column\u001b[0m\u001b[0;34m(\u001b[0m\u001b[0mframe\u001b[0m\u001b[0;34m,\u001b[0m \u001b[0mfn\u001b[0m\u001b[0;34m,\u001b[0m \u001b[0mname\u001b[0m\u001b[0;34m)\u001b[0m\u001b[0;34m:\u001b[0m\u001b[0;34m\u001b[0m\u001b[0;34m\u001b[0m\u001b[0m\n\u001b[0;32m---> 10\u001b[0;31m     \u001b[0mnew_col\u001b[0m \u001b[0;34m=\u001b[0m \u001b[0msummary\u001b[0m\u001b[0;34m.\u001b[0m\u001b[0mgroupby\u001b[0m\u001b[0;34m(\u001b[0m\u001b[0;34m[\u001b[0m\u001b[0;34m'rsid'\u001b[0m\u001b[0;34m,\u001b[0m \u001b[0;34m'ID'\u001b[0m\u001b[0;34m]\u001b[0m\u001b[0;34m)\u001b[0m\u001b[0;34m.\u001b[0m\u001b[0mapply\u001b[0m\u001b[0;34m(\u001b[0m\u001b[0mfn\u001b[0m\u001b[0;34m)\u001b[0m\u001b[0;34m.\u001b[0m\u001b[0mreset_index\u001b[0m\u001b[0;34m(\u001b[0m\u001b[0mname\u001b[0m\u001b[0;34m=\u001b[0m\u001b[0mname\u001b[0m\u001b[0;34m)\u001b[0m\u001b[0;34m\u001b[0m\u001b[0;34m\u001b[0m\u001b[0m\n\u001b[0m\u001b[1;32m     11\u001b[0m     \u001b[0;32mreturn\u001b[0m \u001b[0mframe\u001b[0m\u001b[0;34m.\u001b[0m\u001b[0mmerge\u001b[0m\u001b[0;34m(\u001b[0m\u001b[0mnew_col\u001b[0m\u001b[0;34m)\u001b[0m\u001b[0;34m\u001b[0m\u001b[0;34m\u001b[0m\u001b[0m\n\u001b[1;32m     12\u001b[0m \u001b[0;34m\u001b[0m\u001b[0m\n",
      "\u001b[0;31mTypeError\u001b[0m: reset_index() got an unexpected keyword argument 'name'"
     ]
    }
   ],
   "source": [
    "pd.options.display.max_rows = 999\n",
    "\n",
    "#summary.groupby(summary.rsid).min()\n",
    "\n",
    "for i, g in summary.groupby((~((summary == summary.shift(1)).all(1))).cumsum()):\n",
    "    combined = pd.DataFrame(g)\n",
    "   # print(g)\n",
    "combined\n",
    "def add_column(frame, fn, name):\n",
    "    new_col = summary.groupby(['rsid', 'ID']).apply(fn).reset_index(name=name)\n",
    "    return frame.merge(new_col)\n",
    "\n",
    "def combined(df):\n",
    "    for i, g in summary.groupby((~((summary == summary.shift(1)).all(1))).cumsum()):\n",
    "        return g\n",
    "   # print(g)\n",
    "    \n",
    "metric_frame = add_column(summary, combined, 'combined')"
   ]
  },
  {
   "cell_type": "code",
   "execution_count": null,
   "metadata": {},
   "outputs": [],
   "source": []
  },
  {
   "cell_type": "code",
   "execution_count": null,
   "metadata": {},
   "outputs": [],
   "source": []
  }
 ],
 "metadata": {
  "kernelspec": {
   "display_name": "Python 3",
   "language": "python",
   "name": "python3"
  },
  "language_info": {
   "codemirror_mode": {
    "name": "ipython",
    "version": 3
   },
   "file_extension": ".py",
   "mimetype": "text/x-python",
   "name": "python",
   "nbconvert_exporter": "python",
   "pygments_lexer": "ipython3",
   "version": "3.6.8"
  }
 },
 "nbformat": 4,
 "nbformat_minor": 2
}
